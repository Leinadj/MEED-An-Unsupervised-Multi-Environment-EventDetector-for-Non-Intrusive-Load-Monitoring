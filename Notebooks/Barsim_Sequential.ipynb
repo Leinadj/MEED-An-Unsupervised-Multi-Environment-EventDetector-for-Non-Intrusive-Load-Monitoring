{
 "cells": [
  {
   "cell_type": "markdown",
   "metadata": {},
   "source": [
    "# Usage of the Event Detector by Barsim et al."
   ]
  },
  {
   "cell_type": "markdown",
   "metadata": {},
   "source": [
    "# Load the required packages"
   ]
  },
  {
   "cell_type": "code",
   "execution_count": 1,
   "metadata": {
    "scrolled": true
   },
   "outputs": [
    {
     "name": "stderr",
     "output_type": "stream",
     "text": [
      "/anaconda3/lib/python3.6/site-packages/tensorflow/python/framework/dtypes.py:526: FutureWarning: Passing (type, 1) or '1type' as a synonym of type is deprecated; in a future version of numpy, it will be understood as (type, (1,)) / '(1,)type'.\n",
      "  _np_qint8 = np.dtype([(\"qint8\", np.int8, 1)])\n",
      "/anaconda3/lib/python3.6/site-packages/tensorflow/python/framework/dtypes.py:527: FutureWarning: Passing (type, 1) or '1type' as a synonym of type is deprecated; in a future version of numpy, it will be understood as (type, (1,)) / '(1,)type'.\n",
      "  _np_quint8 = np.dtype([(\"quint8\", np.uint8, 1)])\n",
      "/anaconda3/lib/python3.6/site-packages/tensorflow/python/framework/dtypes.py:528: FutureWarning: Passing (type, 1) or '1type' as a synonym of type is deprecated; in a future version of numpy, it will be understood as (type, (1,)) / '(1,)type'.\n",
      "  _np_qint16 = np.dtype([(\"qint16\", np.int16, 1)])\n",
      "/anaconda3/lib/python3.6/site-packages/tensorflow/python/framework/dtypes.py:529: FutureWarning: Passing (type, 1) or '1type' as a synonym of type is deprecated; in a future version of numpy, it will be understood as (type, (1,)) / '(1,)type'.\n",
      "  _np_quint16 = np.dtype([(\"quint16\", np.uint16, 1)])\n",
      "/anaconda3/lib/python3.6/site-packages/tensorflow/python/framework/dtypes.py:530: FutureWarning: Passing (type, 1) or '1type' as a synonym of type is deprecated; in a future version of numpy, it will be understood as (type, (1,)) / '(1,)type'.\n",
      "  _np_qint32 = np.dtype([(\"qint32\", np.int32, 1)])\n",
      "/anaconda3/lib/python3.6/site-packages/tensorflow/python/framework/dtypes.py:535: FutureWarning: Passing (type, 1) or '1type' as a synonym of type is deprecated; in a future version of numpy, it will be understood as (type, (1,)) / '(1,)type'.\n",
      "  np_resource = np.dtype([(\"resource\", np.ubyte, 1)])\n",
      "/anaconda3/lib/python3.6/site-packages/h5py/__init__.py:36: FutureWarning: Conversion of the second argument of issubdtype from `float` to `np.floating` is deprecated. In future, it will be treated as `np.float64 == np.dtype(float).type`.\n",
      "  from ._conv import register_converters as _register_converters\n"
     ]
    },
    {
     "name": "stdout",
     "output_type": "stream",
     "text": [
      "WARNING:tensorflow:From /anaconda3/lib/python3.6/site-packages/tensorflow/python/framework/op_def_library.py:263: colocate_with (from tensorflow.python.framework.ops) is deprecated and will be removed in a future version.\n",
      "Instructions for updating:\n",
      "Colocations handled automatically by placer.\n"
     ]
    },
    {
     "name": "stderr",
     "output_type": "stream",
     "text": [
      "Using TensorFlow backend.\n"
     ]
    }
   ],
   "source": [
    "# Import public packages\n",
    "import sys\n",
    "import os\n",
    "from pathlib import Path\n",
    "import ipdb\n",
    "from matplotlib import pyplot as plt\n",
    "import glob\n",
    "from datetime import datetime, timedelta\n",
    "import pandas as pd\n",
    "import numpy as np\n",
    "from io import StringIO\n",
    "\n",
    "# Add src to the path for import\n",
    "project_dir = Path(os.getcwd()).resolve().parents[0]\n",
    "module_path = os.path.abspath(os.path.join(project_dir))  \n",
    "if module_path not in sys.path:\n",
    "    sys.path.append(module_path)\n",
    "\n",
    "# Import private source code\n",
    "from Event_Detectors import EventDet_Barsim_Sequential \n",
    "\n",
    "# Activate Autoreload\n",
    "%load_ext autoreload\n",
    "%autoreload 2"
   ]
  },
  {
   "cell_type": "markdown",
   "metadata": {},
   "source": [
    "# Set all global Parameters for the BLUED Dataset"
   ]
  },
  {
   "cell_type": "code",
   "execution_count": 2,
   "metadata": {
    "scrolled": true
   },
   "outputs": [],
   "source": [
    "# Hardcoded Hyperparameters\n",
    "DATASET_LOCATION_BLUED = os.path.join(\"./Test_Data/\") #Path to Test Data\n",
    "DATASET = \"blued_events\" #name of the dataset (used to load the file later with my Utility class)\n",
    "CURRENT_COLUMN = \"Current B\" # Dataset has two phases: phase A and B. They can be treated independently. We load only Phase B.\n",
    "NETWORK_FREQUENCY_BLUED = 60 # Base electrical network frequency of the region where the dataset was recorded\n",
    "SAMPLES_PER_SECOND_BLUED = 2 # We compute two features (data points) per second.\n",
    "SAMPLERATE_BLUED = 12000 # Sampling Rate the raw BLUED Dataset was recorded with \n",
    "\n",
    "# Hyperparameters Dictionary for the Event Detector\n",
    "init_dict_BLUED = {\"dbscan_eps\": 0.03, #epsilon radius parameter for the dbscan algorithm\n",
    "                       \"dbscan_min_pts\": 2,  # minimum points parameter for the dbscan algorithm \n",
    "                       \"window_size_n\": 4,  # datapoints the algorithm takes one at a time\n",
    "                       \"future_window_size_n\": 6,  # datapoints it needs from the future\n",
    "                       \"loss_thresh\": 40, # threshold for model loss \n",
    "                       \"temp_eps\": 0.8, # temporal epsilon parameter of the algorithm\n",
    "                       \"debugging_mode\": False, # debugging, yes or no - if yes detailed information is printed to console\n",
    "                       \"network_frequency\": 60} #base frequency\n",
    "\n",
    "# Compute some relevant window sizes etc. for the \"streaming\"\n",
    "window_size_seconds_BLUED = (init_dict_BLUED[\"window_size_n\"] + init_dict_BLUED[\"future_window_size_n\"]) / SAMPLES_PER_SECOND_BLUED\n",
    "\n",
    "# Compute how big the window is regarding the raw samples --> this is used for the \"streaming\"\n",
    "samples_raw_per_window_BLUED = SAMPLERATE_BLUED *  window_size_seconds_BLUED\n",
    "\n",
    "# Compute the period size of the BLUED dataset: i.e. number of raw data points per period\n",
    "BLUED_period = int(SAMPLERATE_BLUED / NETWORK_FREQUENCY_BLUED) "
   ]
  },
  {
   "cell_type": "markdown",
   "metadata": {},
   "source": [
    "# Load and display the BLUED Test File"
   ]
  },
  {
   "cell_type": "code",
   "execution_count": 3,
   "metadata": {
    "code_folding": [
     0
    ]
   },
   "outputs": [],
   "source": [
    "def load_file_BLUED(file_path, phase=\"b\"):\n",
    "    \"\"\"\n",
    "    Function to load the BLUED test data.\n",
    "     Args:\n",
    "            file_path (Path): full path to the test file\n",
    "            phase (string): either \"all\", \"b\" or \"a\". Returns only the requested phase of the dataset.\n",
    "\n",
    "    Returns:\n",
    "            data_df (pandas DataFrame): original columns if phase==\"all\" else colums are just \"Current\" and \"Voltage\" --> already for the matching phase! (* - 1 done for B)\n",
    "            file_info (dict): dictionary with information about the file that was loaded. Parsed from the filename\n",
    "            and the metadata included in the file.\n",
    "    \"\"\"\n",
    "    with open(file_path, 'r') as f:\n",
    "\n",
    "            data_txt = f.read()\n",
    "\n",
    "            lines = data_txt.splitlines()\n",
    "\n",
    "            data_txt = data_txt.split(\"***End_of_Header***\")\n",
    "            reference_time = data_txt[0].split(\"Date,\")[1][:11].replace(\"\\n\",\"\") +\"-\"+ data_txt[0].split(\"Time,\")[1][:15]\n",
    "            reference_time = datetime.strptime(reference_time, '%Y/%m/%d-%H:%M:%S.%f')\n",
    "\n",
    "\n",
    "            data_time_str = data_txt[1].split(\"Time,\")[1]\n",
    "            data_time_str = data_time_str.split(',')\n",
    "\n",
    "            data_day_str = data_txt[1].split(\"Date,\")[1]\n",
    "            data_day_str = data_day_str.split(',')\n",
    "\n",
    "            day_str = data_day_str[0]  # just the first on is enoguh\n",
    "            time_str = data_time_str[0][:15]  # same for time\n",
    "            date = day_str + \"-\" + time_str\n",
    "            start_date_time = datetime.strptime(date, '%Y/%m/%d-%H:%M:%S.%f')\n",
    "\n",
    "            filename = Path(file_path).name  # get the file name\n",
    "\n",
    "            samples = data_txt[1].split(\"Samples,\")[1].split(\",\")[0:3][0]\n",
    "            samples = int(samples)\n",
    "\n",
    "            values_str = data_txt[-1]\n",
    "            values_str = values_str[values_str.index(\"X_Value\"):]\n",
    "\n",
    "            measurement_steps = data_txt[1].split(\"Delta_X\")[1].split(\",\")[0:3]\n",
    "            measurement_steps = [float(x) for x in measurement_steps if x != \"\"]\n",
    "            measurement_steps = measurement_steps[0]\n",
    "\n",
    "            data_df = pd.read_csv(StringIO(values_str), usecols=[\"X_Value\", \"Current A\", \"Current B\", \"VoltageA\"])\n",
    "\n",
    "            data_df.dropna(inplace=True,how=\"any\")\n",
    "           \n",
    "            file_duration = data_df.tail(1)[\"X_Value\"].values[0]\n",
    "            file_duration = float(file_duration)\n",
    "\n",
    "            file_duration = timedelta(seconds=file_duration)\n",
    "            end_date_time = reference_time + file_duration\n",
    "\n",
    "            file_duration = end_date_time - start_date_time\n",
    "\n",
    "            # Convert totimestamps\n",
    "            data_df[\"TimeStamp\"] = data_df[\"X_Value\"].apply(lambda x: timedelta(seconds=x) + reference_time)\n",
    "            data_df.drop(columns=[\"X_Value\"],inplace=True)\n",
    "            data_df.set_index(\"TimeStamp\",inplace=True)\n",
    "\n",
    "            file_info = {\"Filepath\": file_path, \"Filename\": filename, \"samples\": samples,\n",
    "                         \"file_start\": start_date_time, \"file_duration\": file_duration, \"file_end\": end_date_time,\n",
    "                         \"measurement_steps\": measurement_steps,\"reference_time\":reference_time}\n",
    "\n",
    "            if phase.lower() != \"all\":\n",
    "                if phase.lower() == \"a\":\n",
    "                    data_df[\"Current\"] = data_df[\"Current A\"]\n",
    "                    data_df[\"Voltage\"] = data_df[\"VoltageA\"]\n",
    "                elif phase.lower() == \"b\":\n",
    "                    data_df[\"Current\"] = data_df[\"Current B\"]\n",
    "                    data_df[\"Voltage\"] = data_df[\"VoltageA\"].values * -1\n",
    "                else:\n",
    "                    raise ValueError(\"The phase provided does not exist\")\n",
    "\n",
    "                data_df.drop(columns=['Current A', 'Current B',\"VoltageA\"],inplace=True)\n",
    "\n",
    "    return data_df, file_info"
   ]
  },
  {
   "cell_type": "code",
   "execution_count": 4,
   "metadata": {
    "code_folding": [],
    "scrolled": false
   },
   "outputs": [
    {
     "name": "stderr",
     "output_type": "stream",
     "text": [
      "/anaconda3/lib/python3.6/site-packages/pandas/plotting/_converter.py:129: FutureWarning: Using an implicitly registered datetime converter for a matplotlib plotting method. The converter was registered by pandas on import. Future versions of pandas will require you to explicitly register matplotlib converters.\n",
      "\n",
      "To register the converters:\n",
      "\t>>> from pandas.plotting import register_matplotlib_converters\n",
      "\t>>> register_matplotlib_converters()\n",
      "  warnings.warn(msg, FutureWarning)\n"
     ]
    },
    {
     "data": {
      "image/png": "[encoded data removed]",
      "text/plain": [
       "<Figure size 432x288 with 1 Axes>"
      ]
     },
     "metadata": {
      "needs_background": "light"
     },
     "output_type": "display_data"
    }
   ],
   "source": [
    "# Get the Test File\n",
    "test_file = glob.glob(os.path.join(DATASET_LOCATION_BLUED, \"*.txt\"))[0] #get the full path of the test file\n",
    "\n",
    "# Load the Data from the test File\n",
    "data,file_info = load_file_BLUED(test_file)\n",
    "\n",
    "current = data[\"Current\"]\n",
    "voltage = data[\"Voltage\"]\n",
    "\n",
    "# Plot the data from the test File\n",
    "plt.title(\"Full Current signal of Test File\")\n",
    "plt.ylabel(\"Current\")\n",
    "plt.xlabel(\"Time\")\n",
    "plt.plot(current)\n",
    "plt.show()\n"
   ]
  },
  {
   "cell_type": "markdown",
   "metadata": {},
   "source": [
    "# Run the Event Detection on the Test Data"
   ]
  },
  {
   "cell_type": "code",
   "execution_count": null,
   "metadata": {
    "scrolled": false
   },
   "outputs": [
    {
     "name": "stderr",
     "output_type": "stream",
     "text": [
      "/Users/daniel/Development/MEED-An-Unsupervised-Multi-Environment-EventDetector-for-Non-Intrusive-Load-Monitoring/Event_Detectors/Event_Detectors.py:1947: Warning: You have provided less then 5 times of future_window_samples_n than window_size_n samples to the algorithm. Please make sure that your window_size_n is at least big enough for the event detector to work. We recommend using more future samples\n",
      "  \"event detector to work. We recommend using more future samples\", Warning)\n"
     ]
    },
    {
     "data": {
      "image/png": "[encoded data removed]",
      "text/plain": [
       "<Figure size 432x288 with 1 Axes>"
      ]
     },
     "metadata": {
      "needs_background": "light"
     },
     "output_type": "display_data"
    }
   ],
   "source": [
    "samples_remaining = len(current) # number of samples that we have not predicted yet\n",
    "window_start = 0 # offset of the next window\n",
    "\n",
    "# Step 1: Initialize  the Event Detector with the Hypperparameter dictionary \n",
    "EventDet_Barsim = EventDet_Barsim_Sequential(**init_dict_BLUED) #i.e. values are unpacked into the parameters\n",
    "EventDet_Barsim.fit() # Call the fit() method to further initialize the algorithm (required by the sklearn API)\n",
    "\n",
    "while samples_remaining >= samples_raw_per_window_BLUED: #while we still have samples to \"stream\" do the following\n",
    "    \n",
    "    window_stop = int(window_start + samples_raw_per_window_BLUED) # compute end index of the new window\n",
    "    \n",
    "    # Get the voltage and current windows\n",
    "    voltage_window = voltage[window_start:window_stop]\n",
    "    current_window = current[window_start:window_stop]\n",
    "\n",
    "    # Step 2: Use the feature computation function of the algorithm to compute the input features\n",
    "    X = EventDet_Barsim.compute_input_signal(voltage=voltage_window, current=current_window, period_length=BLUED_period) \n",
    "    \n",
    "    # Plot the computed features\n",
    "    plt.title(\"Computed input features for this window\")\n",
    "    plt.plot(X)\n",
    "    plt.show()\n",
    "    \n",
    "    \n",
    "    # Step 3: Run the prediciton on the features\n",
    "    event_interval_indices = EventDet_Barsim.predict(X) #(start_index, end_index) of event if existent is returned\n",
    "\n",
    "    if event_interval_indices is not None: # if an event is returned\n",
    "        \n",
    "        print(\"Event Detected at \" + str(event_interval_indices))\n",
    "        \n",
    "        # Instead of an event interval, we might be interested in an exact event point\n",
    "        # Hence, we just take the mean of the interval boundaries\n",
    "        mean_event_index = np.mean([event_interval_indices[0], event_interval_indices[1]])\n",
    "        \n",
    "        # We compute a new offset: We start of at the event index\n",
    "        # The event indices returned are with respect to the feature domain\n",
    "        # To \"stream\" the next window, we need it with respect to the raw input data domain\n",
    "        end_index = EventDet_Barsim._convert_relative_offset(event_interval_indices[1])  # convert it to input domain with utility function\n",
    "        \n",
    "        window_start = int(window_start + end_index) # set new starting point\n",
    "        \n",
    "        print(\"+++++++++++++++++++++++++++++++++++\")\n",
    "        \n",
    "    else: #no event was detected\n",
    "        \n",
    "        # We start at the end of the previous window\n",
    "        window_start = int(window_stop)\n",
    "        print(\"+++++++++++++++++++++++++++++++++++\")\n",
    "    \n",
    "    # We need to update the data points that remain for streaming now.\n",
    "    samples_remaining -= samples_raw_per_window_BLUED"
   ]
  }
 ],
 "metadata": {
  "kernelspec": {
   "display_name": "Python 3",
   "language": "python",
   "name": "python3"
  },
  "language_info": {
   "codemirror_mode": {
    "name": "ipython",
    "version": 3
   },
   "file_extension": ".py",
   "mimetype": "text/x-python",
   "name": "python",
   "nbconvert_exporter": "python",
   "pygments_lexer": "ipython3",
   "version": "3.6.6"
  },
  "varInspector": {
   "cols": {
    "lenName": 16,
    "lenType": 16,
    "lenVar": 40
   },
   "kernels_config": {
    "python": {
     "delete_cmd_postfix": "",
     "delete_cmd_prefix": "del ",
     "library": "var_list.py",
     "varRefreshCmd": "print(var_dic_list())"
    },
    "r": {
     "delete_cmd_postfix": ") ",
     "delete_cmd_prefix": "rm(",
     "library": "var_list.r",
     "varRefreshCmd": "cat(var_dic_list()) "
    }
   },
   "types_to_exclude": [
    "module",
    "function",
    "builtin_function_or_method",
    "instance",
    "_Feature"
   ],
   "window_display": false
  }
 },
 "nbformat": 4,
 "nbformat_minor": 2
}
